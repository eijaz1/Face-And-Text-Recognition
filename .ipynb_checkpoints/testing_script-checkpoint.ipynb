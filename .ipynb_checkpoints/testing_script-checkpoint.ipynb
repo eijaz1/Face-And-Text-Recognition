{
 "cells": [
  {
   "cell_type": "markdown",
   "metadata": {},
   "source": [
    "This notebook is to test the recognise_face function.\n",
    "\n",
    "Please run the notebook, changing the test image in cell 3 and uncommenting the models in the last cell based on which models you would like to test.\n",
    "\n",
    "Note that the cell 2, which loads the models and helper functions, takes about 45 seconds to run.\n",
    "\n",
    "The models are:\n",
    "\n",
    "HOG with SVM\n",
    "<br>\n",
    "SURF with SVM\n",
    "<br>\n",
    "SURF with MLP\n",
    "<br>\n",
    "CNN using a VGG16 base\n",
    "<br>\n",
    "CNN trained from scratch"
   ]
  },
  {
   "cell_type": "code",
   "execution_count": 1,
   "metadata": {},
   "outputs": [
    {
     "name": "stdout",
     "output_type": "stream",
     "text": [
      "Models and helper functions loaded.\n"
     ]
    }
   ],
   "source": [
    "#loads models and helper functions\n",
    "#this cell takes about 45 seconds to run\n",
    "\n",
    "%run face_models_and_functions.py\n",
    "\n",
    "print('Models and helper functions loaded.')"
   ]
  },
  {
   "cell_type": "code",
   "execution_count": 2,
   "metadata": {},
   "outputs": [],
   "source": [
    "###REPLACE THIS WITH IMAGE YOU WISH TO TEST\n",
    "\n",
    "test_image = cv2.imread('example_img.jpg')"
   ]
  },
  {
   "cell_type": "code",
   "execution_count": 3,
   "metadata": {},
   "outputs": [],
   "source": [
    "#function to identify face and x,y positions\n",
    "\n",
    "def recognise_face(image, feature_type, classifier_name):\n",
    "    \n",
    "    faces, x_pos, y_pos = get_faces(image)\n",
    "    \n",
    "    if faces:\n",
    "        \n",
    "        if feature_type=='hog' and classifier_name=='svm':\n",
    "            svm_hog_predict(faces, x_pos, y_pos)\n",
    "        elif feature_type=='hog' and classifier_name=='mlp':\n",
    "            mlp_hog_predict(faces, x_pos, y_pos)\n",
    "        elif feature_type=='surf' and classifier_name=='svm':\n",
    "            svm_surf_predict(faces, x_pos, y_pos)\n",
    "        elif feature_type=='surf' and classifier_name=='mlp':\n",
    "            svm_surf_predict(faces, x_pos, y_pos)\n",
    "        elif feature_type==None and classifier_name=='cnn':\n",
    "            cnn_predict(faces, x_pos, y_pos)\n",
    "        elif feature_type==None and classifier_name=='vgg16cnn':\n",
    "            vgg16cnn_predict(faces, x_pos, y_pos)\n",
    "        else: print('Please enter correct arguments')\n",
    "            \n",
    "    else:\n",
    "        print('No faces found :(')"
   ]
  },
  {
   "cell_type": "code",
   "execution_count": 4,
   "metadata": {},
   "outputs": [
    {
     "name": "stdout",
     "output_type": "stream",
     "text": [
      "[36] 311 215\n"
     ]
    }
   ],
   "source": [
    "###UNCOMMENT BELOW BASED ON THE MODELS YOU WISH TO TEST\n",
    "\n",
    "recognise_face(test_image, 'hog', 'svm')\n",
    "# recognise_face(test_image, 'surf', 'svm')\n",
    "# recognise_face(test_image, 'surf', 'mlp')\n",
    "# recognise_face(test_image, None, 'cnn')\n",
    "# recognise_face(test_image, None, 'vgg16cnn')"
   ]
  }
 ],
 "metadata": {
  "kernelspec": {
   "display_name": "Python [conda env:anaconda3]",
   "language": "python",
   "name": "conda-env-anaconda3-py"
  },
  "language_info": {
   "codemirror_mode": {
    "name": "ipython",
    "version": 3
   },
   "file_extension": ".py",
   "mimetype": "text/x-python",
   "name": "python",
   "nbconvert_exporter": "python",
   "pygments_lexer": "ipython3",
   "version": "3.6.8"
  }
 },
 "nbformat": 4,
 "nbformat_minor": 2
}
