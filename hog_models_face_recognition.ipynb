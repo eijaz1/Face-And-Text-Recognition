{
 "cells": [
  {
   "cell_type": "code",
   "execution_count": 1,
   "metadata": {},
   "outputs": [],
   "source": [
    "import numpy as np\n",
    "import cv2\n",
    "import matplotlib.pyplot as plt\n",
    "import tensorflow.keras\n",
    "from tensorflow.keras.models import Sequential\n",
    "from tensorflow.keras.layers import Dense\n",
    "from tensorflow.keras.callbacks import EarlyStopping\n",
    "from tensorflow.keras.utils import to_categorical\n",
    "from sklearn import svm\n",
    "from sklearn.metrics import accuracy_score\n",
    "from sklearn.externals import joblib\n",
    "from skimage.feature import hog\n",
    "from skimage.io import imread_collection"
   ]
  },
  {
   "cell_type": "code",
   "execution_count": 2,
   "metadata": {},
   "outputs": [],
   "source": [
    "folders = [1,2,3,4,5,6,7,8,9,10,11,12,13,14,15,16,17,20,21,22,24,\n",
    "               33,34,36,37,38,39,40,41,42,43,44,45,46,47,48,49,50,\n",
    "               51,52,53,54,55,56,57,58,59,60,61,62,63,64,65,66,67,68,69,70,\n",
    "               71,72,73,74,75,76,77,78,79,80,81]\n",
    "\n",
    "pixels_per_cell = 16\n",
    "hog_features = []\n",
    "label = []\n",
    "\n",
    "for fldr in folders:\n",
    "    col_dir = f'cw_faces/{fldr}/*'\n",
    "    col = imread_collection(col_dir)\n",
    "    for image in col:\n",
    "        fd,hog_image = hog(image, orientations=8, pixels_per_cell=(pixels_per_cell, pixels_per_cell),cells_per_block=(4, 4),block_norm= 'L2',visualize=True)\n",
    "        hog_features.append(fd)\n",
    "        label.append(fldr)\n",
    "        "
   ]
  },
  {
   "cell_type": "code",
   "execution_count": 3,
   "metadata": {},
   "outputs": [],
   "source": [
    "#convert data to correct type\n",
    "hog_features = np.float32(hog_features)\n",
    "label = np.array(label)\n",
    "\n",
    "# Shuffle Samples\n",
    "shuffle = np.random.permutation(len(hog_features))\n",
    "hog_features = hog_features[shuffle]\n",
    "label = label[shuffle]    \n",
    "\n",
    "#split data into train and test sets\n",
    "X_train = hog_features[:750]\n",
    "X_test = hog_features[750:]\n",
    "y_train = label[:750]\n",
    "y_test = label[750:]"
   ]
  },
  {
   "cell_type": "code",
   "execution_count": 4,
   "metadata": {},
   "outputs": [
    {
     "name": "stderr",
     "output_type": "stream",
     "text": [
      "/Users/eijaz/anaconda3/lib/python3.6/site-packages/sklearn/svm/base.py:931: ConvergenceWarning: Liblinear failed to converge, increase the number of iterations.\n",
      "  \"the number of iterations.\", ConvergenceWarning)\n"
     ]
    },
    {
     "data": {
      "text/plain": [
       "LinearSVC(C=1.0, class_weight=None, dual=True, fit_intercept=True,\n",
       "     intercept_scaling=1, loss='squared_hinge', max_iter=1000,\n",
       "     multi_class='ovr', penalty='l2', random_state=None, tol=0.0001,\n",
       "     verbose=0)"
      ]
     },
     "execution_count": 4,
     "metadata": {},
     "output_type": "execute_result"
    }
   ],
   "source": [
    "#Build and train SVM model\n",
    "svm_hog = svm.LinearSVC()\n",
    "svm_hog.fit(X_train, y_train)"
   ]
  },
  {
   "cell_type": "code",
   "execution_count": 5,
   "metadata": {},
   "outputs": [
    {
     "name": "stdout",
     "output_type": "stream",
     "text": [
      "Accuracy: 0.8722222222222222\n"
     ]
    }
   ],
   "source": [
    "#get predictions and get accuracy of SVM model on the test set\n",
    "y_pred_svm = svm_hog.predict(X_test)\n",
    "\n",
    "print(\"Accuracy: \"+str(accuracy_score(y_test, y_pred_svm)))"
   ]
  },
  {
   "cell_type": "code",
   "execution_count": 7,
   "metadata": {},
   "outputs": [
    {
     "name": "stderr",
     "output_type": "stream",
     "text": [
      "/Users/eijaz/anaconda3/lib/python3.6/site-packages/sklearn/svm/base.py:931: ConvergenceWarning: Liblinear failed to converge, increase the number of iterations.\n",
      "  \"the number of iterations.\", ConvergenceWarning)\n"
     ]
    },
    {
     "data": {
      "text/plain": [
       "LinearSVC(C=1.0, class_weight=None, dual=True, fit_intercept=True,\n",
       "     intercept_scaling=1, loss='squared_hinge', max_iter=1000,\n",
       "     multi_class='ovr', penalty='l2', random_state=None, tol=0.0001,\n",
       "     verbose=0)"
      ]
     },
     "execution_count": 7,
     "metadata": {},
     "output_type": "execute_result"
    }
   ],
   "source": [
    "#train final SVM model on all data\n",
    "svm_hog.fit(hog_features, label)"
   ]
  },
  {
   "cell_type": "code",
   "execution_count": 8,
   "metadata": {},
   "outputs": [
    {
     "data": {
      "text/plain": [
       "['svm_hog.pkl']"
      ]
     },
     "execution_count": 8,
     "metadata": {},
     "output_type": "execute_result"
    }
   ],
   "source": [
    "#save final SVM model\n",
    "joblib.dump(svm_hog, 'svm_hog.pkl')"
   ]
  },
  {
   "cell_type": "code",
   "execution_count": 9,
   "metadata": {},
   "outputs": [],
   "source": [
    "#one-hot encode target column\n",
    "y_train_cat = to_categorical(y_train)\n",
    "y_test_cat = to_categorical(y_test)"
   ]
  },
  {
   "cell_type": "code",
   "execution_count": 13,
   "metadata": {},
   "outputs": [],
   "source": [
    "#create model\n",
    "mlp_hog = Sequential()\n",
    "\n",
    "#get number of columns in training data\n",
    "n_cols = X_train.shape[1]\n",
    "\n",
    "#set early stopping monitor so the model stops training when it won't improve anymore\n",
    "early_stopping_monitor = EarlyStopping(patience=2)\n",
    "\n",
    "#add model layers\n",
    "mlp_hog.add(Dense(256, activation='relu', input_shape=(n_cols,)))\n",
    "mlp_hog.add(Dense(256, activation='relu'))\n",
    "mlp_hog.add(Dense(256, activation='relu'))\n",
    "mlp_hog.add(Dense(82, activation='softmax'))"
   ]
  },
  {
   "cell_type": "code",
   "execution_count": 14,
   "metadata": {},
   "outputs": [],
   "source": [
    "#compile model\n",
    "mlp_hog.compile(optimizer='adam', loss='categorical_crossentropy', metrics=['accuracy'])"
   ]
  },
  {
   "cell_type": "code",
   "execution_count": 15,
   "metadata": {},
   "outputs": [
    {
     "name": "stdout",
     "output_type": "stream",
     "text": [
      "Train on 750 samples, validate on 180 samples\n",
      "Epoch 1/30\n",
      "750/750 [==============================] - 3s 4ms/step - loss: 3.4652 - acc: 0.3067 - val_loss: 1.8261 - val_acc: 0.6556\n",
      "Epoch 2/30\n",
      "750/750 [==============================] - 2s 3ms/step - loss: 1.1392 - acc: 0.7573 - val_loss: 1.0743 - val_acc: 0.7778\n",
      "Epoch 3/30\n",
      "750/750 [==============================] - 2s 3ms/step - loss: 0.5174 - acc: 0.8787 - val_loss: 1.0137 - val_acc: 0.7944\n",
      "Epoch 4/30\n",
      "750/750 [==============================] - 2s 3ms/step - loss: 0.2316 - acc: 0.9467 - val_loss: 0.9256 - val_acc: 0.8000\n",
      "Epoch 5/30\n",
      "750/750 [==============================] - 2s 3ms/step - loss: 0.1107 - acc: 0.9853 - val_loss: 0.8613 - val_acc: 0.8167\n",
      "Epoch 6/30\n",
      "750/750 [==============================] - 2s 3ms/step - loss: 0.0382 - acc: 0.9987 - val_loss: 0.8209 - val_acc: 0.8222\n",
      "Epoch 7/30\n",
      "750/750 [==============================] - 2s 3ms/step - loss: 0.0097 - acc: 1.0000 - val_loss: 0.7639 - val_acc: 0.8389\n",
      "Epoch 8/30\n",
      "750/750 [==============================] - 2s 3ms/step - loss: 0.0024 - acc: 1.0000 - val_loss: 0.7178 - val_acc: 0.8389\n",
      "Epoch 9/30\n",
      "750/750 [==============================] - 2s 3ms/step - loss: 0.0013 - acc: 1.0000 - val_loss: 0.6815 - val_acc: 0.8444\n",
      "Epoch 10/30\n",
      "750/750 [==============================] - 2s 3ms/step - loss: 9.4781e-04 - acc: 1.0000 - val_loss: 0.6740 - val_acc: 0.8500\n",
      "Epoch 11/30\n",
      "750/750 [==============================] - 2s 3ms/step - loss: 8.3356e-04 - acc: 1.0000 - val_loss: 0.6755 - val_acc: 0.8500\n",
      "Epoch 12/30\n",
      "750/750 [==============================] - 2s 3ms/step - loss: 7.4334e-04 - acc: 1.0000 - val_loss: 0.6713 - val_acc: 0.8500\n",
      "Epoch 13/30\n",
      "750/750 [==============================] - 2s 3ms/step - loss: 6.6831e-04 - acc: 1.0000 - val_loss: 0.6674 - val_acc: 0.8556\n",
      "Epoch 14/30\n",
      "750/750 [==============================] - 2s 3ms/step - loss: 6.1184e-04 - acc: 1.0000 - val_loss: 0.6682 - val_acc: 0.8556\n",
      "Epoch 15/30\n",
      "750/750 [==============================] - 2s 3ms/step - loss: 5.5974e-04 - acc: 1.0000 - val_loss: 0.6660 - val_acc: 0.8556\n",
      "Epoch 16/30\n",
      "750/750 [==============================] - 2s 3ms/step - loss: 5.1792e-04 - acc: 1.0000 - val_loss: 0.6618 - val_acc: 0.8556\n",
      "Epoch 17/30\n",
      "750/750 [==============================] - 2s 3ms/step - loss: 4.7968e-04 - acc: 1.0000 - val_loss: 0.6643 - val_acc: 0.8556\n",
      "Epoch 18/30\n",
      "750/750 [==============================] - 2s 3ms/step - loss: 4.4631e-04 - acc: 1.0000 - val_loss: 0.6625 - val_acc: 0.8556\n"
     ]
    },
    {
     "data": {
      "text/plain": [
       "<tensorflow.python.keras.callbacks.History at 0x123c89ba8>"
      ]
     },
     "execution_count": 15,
     "metadata": {},
     "output_type": "execute_result"
    }
   ],
   "source": [
    "#train model\n",
    "mlp_hog.fit(X_train, y_train_cat, validation_data=(X_test,y_test_cat), epochs=30, callbacks=[early_stopping_monitor])"
   ]
  },
  {
   "cell_type": "code",
   "execution_count": 19,
   "metadata": {},
   "outputs": [],
   "source": [
    "#save MLP model\n",
    "mlp_hog.save('mlp_hog.h5')"
   ]
  }
 ],
 "metadata": {
  "kernelspec": {
   "display_name": "Python [conda env:anaconda3]",
   "language": "python",
   "name": "conda-env-anaconda3-py"
  },
  "language_info": {
   "codemirror_mode": {
    "name": "ipython",
    "version": 3
   },
   "file_extension": ".py",
   "mimetype": "text/x-python",
   "name": "python",
   "nbconvert_exporter": "python",
   "pygments_lexer": "ipython3",
   "version": "3.6.8"
  }
 },
 "nbformat": 4,
 "nbformat_minor": 2
}
